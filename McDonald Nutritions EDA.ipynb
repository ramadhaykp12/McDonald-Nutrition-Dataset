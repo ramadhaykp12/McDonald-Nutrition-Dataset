{
 "cells": [
  {
   "cell_type": "code",
   "execution_count": 2,
   "id": "001a5b38",
   "metadata": {},
   "outputs": [
    {
     "data": {
      "text/html": [
       "<div>\n",
       "<style scoped>\n",
       "    .dataframe tbody tr th:only-of-type {\n",
       "        vertical-align: middle;\n",
       "    }\n",
       "\n",
       "    .dataframe tbody tr th {\n",
       "        vertical-align: top;\n",
       "    }\n",
       "\n",
       "    .dataframe thead th {\n",
       "        text-align: right;\n",
       "    }\n",
       "</style>\n",
       "<table border=\"1\" class=\"dataframe\">\n",
       "  <thead>\n",
       "    <tr style=\"text-align: right;\">\n",
       "      <th></th>\n",
       "      <th>Unnamed: 0</th>\n",
       "      <th>item</th>\n",
       "      <th>servesize</th>\n",
       "      <th>calories</th>\n",
       "      <th>protien</th>\n",
       "      <th>totalfat</th>\n",
       "      <th>satfat</th>\n",
       "      <th>transfat</th>\n",
       "      <th>cholestrol</th>\n",
       "      <th>carbs</th>\n",
       "      <th>sugar</th>\n",
       "      <th>addedsugar</th>\n",
       "      <th>sodium</th>\n",
       "      <th>menu</th>\n",
       "    </tr>\n",
       "  </thead>\n",
       "  <tbody>\n",
       "    <tr>\n",
       "      <th>0</th>\n",
       "      <td>0</td>\n",
       "      <td>McVeggie Burger</td>\n",
       "      <td>168</td>\n",
       "      <td>402</td>\n",
       "      <td>10.24</td>\n",
       "      <td>13.83</td>\n",
       "      <td>5.34</td>\n",
       "      <td>0.16</td>\n",
       "      <td>2.49</td>\n",
       "      <td>56.54</td>\n",
       "      <td>7.90</td>\n",
       "      <td>4.49</td>\n",
       "      <td>706.13</td>\n",
       "      <td>regular</td>\n",
       "    </tr>\n",
       "    <tr>\n",
       "      <th>1</th>\n",
       "      <td>1</td>\n",
       "      <td>McAloo Tikki Burger</td>\n",
       "      <td>146</td>\n",
       "      <td>339</td>\n",
       "      <td>8.50</td>\n",
       "      <td>11.31</td>\n",
       "      <td>4.27</td>\n",
       "      <td>0.20</td>\n",
       "      <td>1.47</td>\n",
       "      <td>5.27</td>\n",
       "      <td>7.05</td>\n",
       "      <td>4.07</td>\n",
       "      <td>545.34</td>\n",
       "      <td>regular</td>\n",
       "    </tr>\n",
       "    <tr>\n",
       "      <th>2</th>\n",
       "      <td>2</td>\n",
       "      <td>McSpicy Paneer Burger</td>\n",
       "      <td>199</td>\n",
       "      <td>652</td>\n",
       "      <td>20.29</td>\n",
       "      <td>39.45</td>\n",
       "      <td>17.12</td>\n",
       "      <td>0.18</td>\n",
       "      <td>21.85</td>\n",
       "      <td>52.33</td>\n",
       "      <td>8.35</td>\n",
       "      <td>5.27</td>\n",
       "      <td>1074.58</td>\n",
       "      <td>regular</td>\n",
       "    </tr>\n",
       "    <tr>\n",
       "      <th>3</th>\n",
       "      <td>3</td>\n",
       "      <td>Spicy Paneer Wrap</td>\n",
       "      <td>250</td>\n",
       "      <td>674</td>\n",
       "      <td>20.96</td>\n",
       "      <td>39.10</td>\n",
       "      <td>19.73</td>\n",
       "      <td>0.26</td>\n",
       "      <td>40.93</td>\n",
       "      <td>59.27</td>\n",
       "      <td>3.50</td>\n",
       "      <td>1.08</td>\n",
       "      <td>1087.46</td>\n",
       "      <td>regular</td>\n",
       "    </tr>\n",
       "    <tr>\n",
       "      <th>4</th>\n",
       "      <td>4</td>\n",
       "      <td>American Veg Burger</td>\n",
       "      <td>177</td>\n",
       "      <td>512</td>\n",
       "      <td>15.30</td>\n",
       "      <td>23.45</td>\n",
       "      <td>10.51</td>\n",
       "      <td>0.17</td>\n",
       "      <td>25.24</td>\n",
       "      <td>56.96</td>\n",
       "      <td>7.85</td>\n",
       "      <td>4.76</td>\n",
       "      <td>1051.24</td>\n",
       "      <td>regular</td>\n",
       "    </tr>\n",
       "    <tr>\n",
       "      <th>5</th>\n",
       "      <td>5</td>\n",
       "      <td>Veg Maharaja Mac</td>\n",
       "      <td>306</td>\n",
       "      <td>832</td>\n",
       "      <td>24.17</td>\n",
       "      <td>37.94</td>\n",
       "      <td>16.83</td>\n",
       "      <td>0.28</td>\n",
       "      <td>36.19</td>\n",
       "      <td>93.84</td>\n",
       "      <td>11.52</td>\n",
       "      <td>6.92</td>\n",
       "      <td>1529.22</td>\n",
       "      <td>regular</td>\n",
       "    </tr>\n",
       "    <tr>\n",
       "      <th>6</th>\n",
       "      <td>6</td>\n",
       "      <td>Green Chilli Aloo Naan p</td>\n",
       "      <td>132</td>\n",
       "      <td>356</td>\n",
       "      <td>7.91</td>\n",
       "      <td>15.08</td>\n",
       "      <td>6.11</td>\n",
       "      <td>0.24</td>\n",
       "      <td>9.45</td>\n",
       "      <td>46.36</td>\n",
       "      <td>4.53</td>\n",
       "      <td>1.15</td>\n",
       "      <td>579.60</td>\n",
       "      <td>regular</td>\n",
       "    </tr>\n",
       "    <tr>\n",
       "      <th>7</th>\n",
       "      <td>7</td>\n",
       "      <td>Pizza Puff</td>\n",
       "      <td>87</td>\n",
       "      <td>228</td>\n",
       "      <td>5.45</td>\n",
       "      <td>11.44</td>\n",
       "      <td>5.72</td>\n",
       "      <td>0.09</td>\n",
       "      <td>5.17</td>\n",
       "      <td>24.79</td>\n",
       "      <td>2.73</td>\n",
       "      <td>0.35</td>\n",
       "      <td>390.74</td>\n",
       "      <td>regular</td>\n",
       "    </tr>\n",
       "    <tr>\n",
       "      <th>8</th>\n",
       "      <td>8</td>\n",
       "      <td>Mc chicken Burger</td>\n",
       "      <td>173</td>\n",
       "      <td>400</td>\n",
       "      <td>15.66</td>\n",
       "      <td>15.70</td>\n",
       "      <td>5.47</td>\n",
       "      <td>0.16</td>\n",
       "      <td>31.17</td>\n",
       "      <td>47.98</td>\n",
       "      <td>5.53</td>\n",
       "      <td>4.49</td>\n",
       "      <td>766.33</td>\n",
       "      <td>regular</td>\n",
       "    </tr>\n",
       "    <tr>\n",
       "      <th>9</th>\n",
       "      <td>9</td>\n",
       "      <td>FILLET-O-FISH Burger</td>\n",
       "      <td>136</td>\n",
       "      <td>348</td>\n",
       "      <td>15.44</td>\n",
       "      <td>14.16</td>\n",
       "      <td>5.79</td>\n",
       "      <td>0.21</td>\n",
       "      <td>32.83</td>\n",
       "      <td>38.85</td>\n",
       "      <td>5.88</td>\n",
       "      <td>3.54</td>\n",
       "      <td>530.54</td>\n",
       "      <td>regular</td>\n",
       "    </tr>\n",
       "  </tbody>\n",
       "</table>\n",
       "</div>"
      ],
      "text/plain": [
       "   Unnamed: 0                      item servesize calories  protien  totalfat  \\\n",
       "0           0           McVeggie Burger      168       402    10.24     13.83   \n",
       "1           1       McAloo Tikki Burger      146       339     8.50     11.31   \n",
       "2           2    McSpicy Paneer Burger      199       652    20.29     39.45   \n",
       "3           3         Spicy Paneer Wrap      250       674    20.96     39.10   \n",
       "4           4       American Veg Burger      177       512    15.30     23.45   \n",
       "5           5         Veg Maharaja Mac        306      832    24.17     37.94   \n",
       "6           6  Green Chilli Aloo Naan p     132        356     7.91     15.08   \n",
       "7           7               Pizza Puff        87       228     5.45     11.44   \n",
       "8           8        Mc chicken Burger       173       400    15.66     15.70   \n",
       "9           9     FILLET-O-FISH Burger       136       348    15.44     14.16   \n",
       "\n",
       "   satfat  transfat  cholestrol  carbs  sugar  addedsugar   sodium     menu  \n",
       "0    5.34      0.16        2.49  56.54   7.90        4.49   706.13  regular  \n",
       "1    4.27      0.20        1.47   5.27   7.05        4.07   545.34  regular  \n",
       "2   17.12      0.18       21.85  52.33   8.35        5.27  1074.58  regular  \n",
       "3   19.73      0.26       40.93  59.27   3.50        1.08  1087.46  regular  \n",
       "4   10.51      0.17       25.24  56.96   7.85        4.76  1051.24  regular  \n",
       "5   16.83      0.28       36.19  93.84  11.52        6.92  1529.22  regular  \n",
       "6    6.11      0.24        9.45  46.36   4.53        1.15   579.60  regular  \n",
       "7    5.72      0.09        5.17  24.79   2.73        0.35   390.74  regular  \n",
       "8    5.47      0.16       31.17  47.98   5.53        4.49   766.33  regular  \n",
       "9    5.79      0.21       32.83  38.85   5.88        3.54   530.54  regular  "
      ]
     },
     "execution_count": 2,
     "metadata": {},
     "output_type": "execute_result"
    }
   ],
   "source": [
    "# Import necessary library\n",
    "import pandas as pd\n",
    "import seaborn as sns\n",
    "import matplotlib.pyplot as plt\n",
    "\n",
    "# Import the data\n",
    "dataset = pd.read_csv('mcdonaldata.csv')\n",
    "\n",
    "# Check the data\n",
    "dataset.head(10)"
   ]
  },
  {
   "cell_type": "code",
   "execution_count": 3,
   "id": "912c78f6",
   "metadata": {},
   "outputs": [],
   "source": [
    "# Drop unnamed column\n",
    "dataset = dataset.drop(dataset.columns[0],axis=1)"
   ]
  },
  {
   "cell_type": "code",
   "execution_count": 4,
   "id": "3c896632",
   "metadata": {},
   "outputs": [
    {
     "data": {
      "text/html": [
       "<div>\n",
       "<style scoped>\n",
       "    .dataframe tbody tr th:only-of-type {\n",
       "        vertical-align: middle;\n",
       "    }\n",
       "\n",
       "    .dataframe tbody tr th {\n",
       "        vertical-align: top;\n",
       "    }\n",
       "\n",
       "    .dataframe thead th {\n",
       "        text-align: right;\n",
       "    }\n",
       "</style>\n",
       "<table border=\"1\" class=\"dataframe\">\n",
       "  <thead>\n",
       "    <tr style=\"text-align: right;\">\n",
       "      <th></th>\n",
       "      <th>item</th>\n",
       "      <th>servesize</th>\n",
       "      <th>calories</th>\n",
       "      <th>protien</th>\n",
       "      <th>totalfat</th>\n",
       "      <th>satfat</th>\n",
       "      <th>transfat</th>\n",
       "      <th>cholestrol</th>\n",
       "      <th>carbs</th>\n",
       "      <th>sugar</th>\n",
       "      <th>addedsugar</th>\n",
       "      <th>sodium</th>\n",
       "      <th>menu</th>\n",
       "    </tr>\n",
       "  </thead>\n",
       "  <tbody>\n",
       "    <tr>\n",
       "      <th>0</th>\n",
       "      <td>McVeggie Burger</td>\n",
       "      <td>168</td>\n",
       "      <td>402</td>\n",
       "      <td>10.24</td>\n",
       "      <td>13.83</td>\n",
       "      <td>5.34</td>\n",
       "      <td>0.16</td>\n",
       "      <td>2.49</td>\n",
       "      <td>56.54</td>\n",
       "      <td>7.90</td>\n",
       "      <td>4.49</td>\n",
       "      <td>706.13</td>\n",
       "      <td>regular</td>\n",
       "    </tr>\n",
       "    <tr>\n",
       "      <th>1</th>\n",
       "      <td>McAloo Tikki Burger</td>\n",
       "      <td>146</td>\n",
       "      <td>339</td>\n",
       "      <td>8.50</td>\n",
       "      <td>11.31</td>\n",
       "      <td>4.27</td>\n",
       "      <td>0.20</td>\n",
       "      <td>1.47</td>\n",
       "      <td>5.27</td>\n",
       "      <td>7.05</td>\n",
       "      <td>4.07</td>\n",
       "      <td>545.34</td>\n",
       "      <td>regular</td>\n",
       "    </tr>\n",
       "    <tr>\n",
       "      <th>2</th>\n",
       "      <td>McSpicy Paneer Burger</td>\n",
       "      <td>199</td>\n",
       "      <td>652</td>\n",
       "      <td>20.29</td>\n",
       "      <td>39.45</td>\n",
       "      <td>17.12</td>\n",
       "      <td>0.18</td>\n",
       "      <td>21.85</td>\n",
       "      <td>52.33</td>\n",
       "      <td>8.35</td>\n",
       "      <td>5.27</td>\n",
       "      <td>1074.58</td>\n",
       "      <td>regular</td>\n",
       "    </tr>\n",
       "    <tr>\n",
       "      <th>3</th>\n",
       "      <td>Spicy Paneer Wrap</td>\n",
       "      <td>250</td>\n",
       "      <td>674</td>\n",
       "      <td>20.96</td>\n",
       "      <td>39.10</td>\n",
       "      <td>19.73</td>\n",
       "      <td>0.26</td>\n",
       "      <td>40.93</td>\n",
       "      <td>59.27</td>\n",
       "      <td>3.50</td>\n",
       "      <td>1.08</td>\n",
       "      <td>1087.46</td>\n",
       "      <td>regular</td>\n",
       "    </tr>\n",
       "    <tr>\n",
       "      <th>4</th>\n",
       "      <td>American Veg Burger</td>\n",
       "      <td>177</td>\n",
       "      <td>512</td>\n",
       "      <td>15.30</td>\n",
       "      <td>23.45</td>\n",
       "      <td>10.51</td>\n",
       "      <td>0.17</td>\n",
       "      <td>25.24</td>\n",
       "      <td>56.96</td>\n",
       "      <td>7.85</td>\n",
       "      <td>4.76</td>\n",
       "      <td>1051.24</td>\n",
       "      <td>regular</td>\n",
       "    </tr>\n",
       "  </tbody>\n",
       "</table>\n",
       "</div>"
      ],
      "text/plain": [
       "                     item servesize calories  protien  totalfat  satfat  \\\n",
       "0         McVeggie Burger      168       402    10.24     13.83    5.34   \n",
       "1     McAloo Tikki Burger      146       339     8.50     11.31    4.27   \n",
       "2  McSpicy Paneer Burger      199       652    20.29     39.45   17.12   \n",
       "3       Spicy Paneer Wrap      250       674    20.96     39.10   19.73   \n",
       "4     American Veg Burger      177       512    15.30     23.45   10.51   \n",
       "\n",
       "   transfat  cholestrol  carbs  sugar  addedsugar   sodium     menu  \n",
       "0      0.16        2.49  56.54   7.90        4.49   706.13  regular  \n",
       "1      0.20        1.47   5.27   7.05        4.07   545.34  regular  \n",
       "2      0.18       21.85  52.33   8.35        5.27  1074.58  regular  \n",
       "3      0.26       40.93  59.27   3.50        1.08  1087.46  regular  \n",
       "4      0.17       25.24  56.96   7.85        4.76  1051.24  regular  "
      ]
     },
     "execution_count": 4,
     "metadata": {},
     "output_type": "execute_result"
    }
   ],
   "source": [
    "dataset.head()"
   ]
  },
  {
   "cell_type": "markdown",
   "id": "bdb4e640",
   "metadata": {},
   "source": [
    "# Assesing Data"
   ]
  },
  {
   "cell_type": "code",
   "execution_count": 5,
   "id": "38caa56d",
   "metadata": {},
   "outputs": [
    {
     "name": "stdout",
     "output_type": "stream",
     "text": [
      "<class 'pandas.core.frame.DataFrame'>\n",
      "RangeIndex: 141 entries, 0 to 140\n",
      "Data columns (total 13 columns):\n",
      " #   Column      Non-Null Count  Dtype  \n",
      "---  ------      --------------  -----  \n",
      " 0   item        141 non-null    object \n",
      " 1   servesize   141 non-null    object \n",
      " 2   calories    141 non-null    object \n",
      " 3   protien     141 non-null    float64\n",
      " 4   totalfat    141 non-null    float64\n",
      " 5   satfat      141 non-null    float64\n",
      " 6   transfat    141 non-null    float64\n",
      " 7   cholestrol  141 non-null    float64\n",
      " 8   carbs       141 non-null    float64\n",
      " 9   sugar       141 non-null    float64\n",
      " 10  addedsugar  141 non-null    float64\n",
      " 11  sodium      141 non-null    float64\n",
      " 12  menu        141 non-null    object \n",
      "dtypes: float64(9), object(4)\n",
      "memory usage: 14.4+ KB\n"
     ]
    }
   ],
   "source": [
    "dataset.info()"
   ]
  },
  {
   "cell_type": "code",
   "execution_count": 13,
   "id": "eca6ad19",
   "metadata": {},
   "outputs": [
    {
     "name": "stdout",
     "output_type": "stream",
     "text": [
      "<class 'pandas.core.frame.DataFrame'>\n",
      "RangeIndex: 141 entries, 0 to 140\n",
      "Data columns (total 13 columns):\n",
      " #   Column      Non-Null Count  Dtype  \n",
      "---  ------      --------------  -----  \n",
      " 0   item        141 non-null    object \n",
      " 1   servesize   141 non-null    float64\n",
      " 2   calories    141 non-null    float64\n",
      " 3   protien     141 non-null    float64\n",
      " 4   totalfat    141 non-null    float64\n",
      " 5   satfat      141 non-null    float64\n",
      " 6   transfat    141 non-null    float64\n",
      " 7   cholestrol  141 non-null    float64\n",
      " 8   carbs       141 non-null    float64\n",
      " 9   sugar       141 non-null    float64\n",
      " 10  addedsugar  141 non-null    float64\n",
      " 11  sodium      141 non-null    float64\n",
      " 12  menu        141 non-null    object \n",
      "dtypes: float64(11), object(2)\n",
      "memory usage: 14.4+ KB\n"
     ]
    }
   ],
   "source": [
    "# Convert obect data type to float\n",
    "dataset['servesize'] = dataset['servesize'].astype('float64')\n",
    "dataset['calories'] = dataset['calories'].astype('float64')\n",
    "dataset.info()"
   ]
  },
  {
   "cell_type": "code",
   "execution_count": 14,
   "id": "967808c7",
   "metadata": {},
   "outputs": [
    {
     "name": "stdout",
     "output_type": "stream",
     "text": [
      "Number of Missing value in the dataset : \n"
     ]
    },
    {
     "data": {
      "text/plain": [
       "item          0\n",
       "servesize     0\n",
       "calories      0\n",
       "protien       0\n",
       "totalfat      0\n",
       "satfat        0\n",
       "transfat      0\n",
       "cholestrol    0\n",
       "carbs         0\n",
       "sugar         0\n",
       "addedsugar    0\n",
       "sodium        0\n",
       "menu          0\n",
       "dtype: int64"
      ]
     },
     "execution_count": 14,
     "metadata": {},
     "output_type": "execute_result"
    }
   ],
   "source": [
    "#Check Missing Value \n",
    "print('Number of Missing value in the dataset : ')\n",
    "dataset.isnull().sum()"
   ]
  },
  {
   "cell_type": "code",
   "execution_count": 15,
   "id": "c9e43d70",
   "metadata": {},
   "outputs": [
    {
     "name": "stdout",
     "output_type": "stream",
     "text": [
      "Number of data duplications in the dataset :  0\n"
     ]
    }
   ],
   "source": [
    "#Check Duplicated Data\n",
    "duplicated_data = dataset.duplicated().sum()\n",
    "print('Number of data duplications in the dataset : ', duplicated_data)"
   ]
  },
  {
   "cell_type": "code",
   "execution_count": 16,
   "id": "e3943b2b",
   "metadata": {},
   "outputs": [
    {
     "data": {
      "text/html": [
       "<div>\n",
       "<style scoped>\n",
       "    .dataframe tbody tr th:only-of-type {\n",
       "        vertical-align: middle;\n",
       "    }\n",
       "\n",
       "    .dataframe tbody tr th {\n",
       "        vertical-align: top;\n",
       "    }\n",
       "\n",
       "    .dataframe thead th {\n",
       "        text-align: right;\n",
       "    }\n",
       "</style>\n",
       "<table border=\"1\" class=\"dataframe\">\n",
       "  <thead>\n",
       "    <tr style=\"text-align: right;\">\n",
       "      <th></th>\n",
       "      <th>item</th>\n",
       "      <th>servesize</th>\n",
       "      <th>calories</th>\n",
       "      <th>proteins</th>\n",
       "      <th>totalfat</th>\n",
       "      <th>satfat</th>\n",
       "      <th>transfat</th>\n",
       "      <th>cholestrol</th>\n",
       "      <th>carbs</th>\n",
       "      <th>sugar</th>\n",
       "      <th>addedsugar</th>\n",
       "      <th>sodium</th>\n",
       "      <th>menu</th>\n",
       "    </tr>\n",
       "  </thead>\n",
       "  <tbody>\n",
       "    <tr>\n",
       "      <th>0</th>\n",
       "      <td>McVeggie Burger</td>\n",
       "      <td>168.0</td>\n",
       "      <td>402.0</td>\n",
       "      <td>10.24</td>\n",
       "      <td>13.83</td>\n",
       "      <td>5.34</td>\n",
       "      <td>0.16</td>\n",
       "      <td>2.49</td>\n",
       "      <td>56.54</td>\n",
       "      <td>7.90</td>\n",
       "      <td>4.49</td>\n",
       "      <td>706.13</td>\n",
       "      <td>regular</td>\n",
       "    </tr>\n",
       "    <tr>\n",
       "      <th>1</th>\n",
       "      <td>McAloo Tikki Burger</td>\n",
       "      <td>146.0</td>\n",
       "      <td>339.0</td>\n",
       "      <td>8.50</td>\n",
       "      <td>11.31</td>\n",
       "      <td>4.27</td>\n",
       "      <td>0.20</td>\n",
       "      <td>1.47</td>\n",
       "      <td>5.27</td>\n",
       "      <td>7.05</td>\n",
       "      <td>4.07</td>\n",
       "      <td>545.34</td>\n",
       "      <td>regular</td>\n",
       "    </tr>\n",
       "    <tr>\n",
       "      <th>2</th>\n",
       "      <td>McSpicy Paneer Burger</td>\n",
       "      <td>199.0</td>\n",
       "      <td>652.0</td>\n",
       "      <td>20.29</td>\n",
       "      <td>39.45</td>\n",
       "      <td>17.12</td>\n",
       "      <td>0.18</td>\n",
       "      <td>21.85</td>\n",
       "      <td>52.33</td>\n",
       "      <td>8.35</td>\n",
       "      <td>5.27</td>\n",
       "      <td>1074.58</td>\n",
       "      <td>regular</td>\n",
       "    </tr>\n",
       "    <tr>\n",
       "      <th>3</th>\n",
       "      <td>Spicy Paneer Wrap</td>\n",
       "      <td>250.0</td>\n",
       "      <td>674.0</td>\n",
       "      <td>20.96</td>\n",
       "      <td>39.10</td>\n",
       "      <td>19.73</td>\n",
       "      <td>0.26</td>\n",
       "      <td>40.93</td>\n",
       "      <td>59.27</td>\n",
       "      <td>3.50</td>\n",
       "      <td>1.08</td>\n",
       "      <td>1087.46</td>\n",
       "      <td>regular</td>\n",
       "    </tr>\n",
       "    <tr>\n",
       "      <th>4</th>\n",
       "      <td>American Veg Burger</td>\n",
       "      <td>177.0</td>\n",
       "      <td>512.0</td>\n",
       "      <td>15.30</td>\n",
       "      <td>23.45</td>\n",
       "      <td>10.51</td>\n",
       "      <td>0.17</td>\n",
       "      <td>25.24</td>\n",
       "      <td>56.96</td>\n",
       "      <td>7.85</td>\n",
       "      <td>4.76</td>\n",
       "      <td>1051.24</td>\n",
       "      <td>regular</td>\n",
       "    </tr>\n",
       "  </tbody>\n",
       "</table>\n",
       "</div>"
      ],
      "text/plain": [
       "                     item  servesize  calories  proteins  totalfat  satfat  \\\n",
       "0         McVeggie Burger      168.0     402.0     10.24     13.83    5.34   \n",
       "1     McAloo Tikki Burger      146.0     339.0      8.50     11.31    4.27   \n",
       "2  McSpicy Paneer Burger      199.0     652.0     20.29     39.45   17.12   \n",
       "3       Spicy Paneer Wrap      250.0     674.0     20.96     39.10   19.73   \n",
       "4     American Veg Burger      177.0     512.0     15.30     23.45   10.51   \n",
       "\n",
       "   transfat  cholestrol  carbs  sugar  addedsugar   sodium     menu  \n",
       "0      0.16        2.49  56.54   7.90        4.49   706.13  regular  \n",
       "1      0.20        1.47   5.27   7.05        4.07   545.34  regular  \n",
       "2      0.18       21.85  52.33   8.35        5.27  1074.58  regular  \n",
       "3      0.26       40.93  59.27   3.50        1.08  1087.46  regular  \n",
       "4      0.17       25.24  56.96   7.85        4.76  1051.24  regular  "
      ]
     },
     "execution_count": 16,
     "metadata": {},
     "output_type": "execute_result"
    }
   ],
   "source": [
    "# Rename protien column name to proteins\n",
    "dataset.rename({'protien' : 'proteins'},axis=1,inplace=True)\n",
    "dataset.head()"
   ]
  },
  {
   "cell_type": "markdown",
   "id": "026b37b3",
   "metadata": {},
   "source": [
    "# Exploratory Data Analysis"
   ]
  },
  {
   "cell_type": "code",
   "execution_count": 17,
   "id": "fb1eecd0",
   "metadata": {},
   "outputs": [
    {
     "data": {
      "text/html": [
       "<div>\n",
       "<style scoped>\n",
       "    .dataframe tbody tr th:only-of-type {\n",
       "        vertical-align: middle;\n",
       "    }\n",
       "\n",
       "    .dataframe tbody tr th {\n",
       "        vertical-align: top;\n",
       "    }\n",
       "\n",
       "    .dataframe thead th {\n",
       "        text-align: right;\n",
       "    }\n",
       "</style>\n",
       "<table border=\"1\" class=\"dataframe\">\n",
       "  <thead>\n",
       "    <tr style=\"text-align: right;\">\n",
       "      <th></th>\n",
       "      <th>servesize</th>\n",
       "      <th>calories</th>\n",
       "      <th>proteins</th>\n",
       "      <th>totalfat</th>\n",
       "      <th>satfat</th>\n",
       "      <th>transfat</th>\n",
       "      <th>cholestrol</th>\n",
       "      <th>carbs</th>\n",
       "      <th>sugar</th>\n",
       "      <th>addedsugar</th>\n",
       "      <th>sodium</th>\n",
       "    </tr>\n",
       "  </thead>\n",
       "  <tbody>\n",
       "    <tr>\n",
       "      <th>count</th>\n",
       "      <td>141.000000</td>\n",
       "      <td>141.000000</td>\n",
       "      <td>141.000000</td>\n",
       "      <td>141.000000</td>\n",
       "      <td>141.000000</td>\n",
       "      <td>141.000000</td>\n",
       "      <td>141.000000</td>\n",
       "      <td>141.000000</td>\n",
       "      <td>141.000000</td>\n",
       "      <td>141.000000</td>\n",
       "      <td>141.000000</td>\n",
       "    </tr>\n",
       "    <tr>\n",
       "      <th>mean</th>\n",
       "      <td>221.978723</td>\n",
       "      <td>242.397447</td>\n",
       "      <td>7.493333</td>\n",
       "      <td>10.060355</td>\n",
       "      <td>5.000099</td>\n",
       "      <td>1.108865</td>\n",
       "      <td>26.321128</td>\n",
       "      <td>30.770851</td>\n",
       "      <td>15.409504</td>\n",
       "      <td>10.336950</td>\n",
       "      <td>362.918809</td>\n",
       "    </tr>\n",
       "    <tr>\n",
       "      <th>std</th>\n",
       "      <td>124.979313</td>\n",
       "      <td>184.453579</td>\n",
       "      <td>8.336949</td>\n",
       "      <td>10.435455</td>\n",
       "      <td>4.898097</td>\n",
       "      <td>7.319814</td>\n",
       "      <td>50.348006</td>\n",
       "      <td>20.664969</td>\n",
       "      <td>15.674007</td>\n",
       "      <td>14.283388</td>\n",
       "      <td>477.792553</td>\n",
       "    </tr>\n",
       "    <tr>\n",
       "      <th>min</th>\n",
       "      <td>3.000000</td>\n",
       "      <td>0.000000</td>\n",
       "      <td>0.000000</td>\n",
       "      <td>0.000000</td>\n",
       "      <td>0.000000</td>\n",
       "      <td>0.000000</td>\n",
       "      <td>0.000000</td>\n",
       "      <td>0.000000</td>\n",
       "      <td>0.000000</td>\n",
       "      <td>0.000000</td>\n",
       "      <td>0.000000</td>\n",
       "    </tr>\n",
       "    <tr>\n",
       "      <th>25%</th>\n",
       "      <td>125.790000</td>\n",
       "      <td>116.360000</td>\n",
       "      <td>0.650000</td>\n",
       "      <td>0.460000</td>\n",
       "      <td>0.330000</td>\n",
       "      <td>0.070000</td>\n",
       "      <td>1.470000</td>\n",
       "      <td>15.630000</td>\n",
       "      <td>2.280000</td>\n",
       "      <td>0.000000</td>\n",
       "      <td>41.990000</td>\n",
       "    </tr>\n",
       "    <tr>\n",
       "      <th>50%</th>\n",
       "      <td>212.500000</td>\n",
       "      <td>217.360000</td>\n",
       "      <td>4.790000</td>\n",
       "      <td>7.770000</td>\n",
       "      <td>4.270000</td>\n",
       "      <td>0.150000</td>\n",
       "      <td>8.390000</td>\n",
       "      <td>29.880000</td>\n",
       "      <td>9.160000</td>\n",
       "      <td>3.640000</td>\n",
       "      <td>150.900000</td>\n",
       "    </tr>\n",
       "    <tr>\n",
       "      <th>75%</th>\n",
       "      <td>301.000000</td>\n",
       "      <td>331.170000</td>\n",
       "      <td>10.880000</td>\n",
       "      <td>14.160000</td>\n",
       "      <td>7.280000</td>\n",
       "      <td>0.250000</td>\n",
       "      <td>31.110000</td>\n",
       "      <td>45.390000</td>\n",
       "      <td>26.950000</td>\n",
       "      <td>19.230000</td>\n",
       "      <td>530.540000</td>\n",
       "    </tr>\n",
       "    <tr>\n",
       "      <th>max</th>\n",
       "      <td>544.000000</td>\n",
       "      <td>834.360000</td>\n",
       "      <td>39.470000</td>\n",
       "      <td>45.180000</td>\n",
       "      <td>20.460000</td>\n",
       "      <td>75.260000</td>\n",
       "      <td>302.610000</td>\n",
       "      <td>93.840000</td>\n",
       "      <td>64.220000</td>\n",
       "      <td>64.220000</td>\n",
       "      <td>2399.490000</td>\n",
       "    </tr>\n",
       "  </tbody>\n",
       "</table>\n",
       "</div>"
      ],
      "text/plain": [
       "        servesize    calories    proteins    totalfat      satfat    transfat  \\\n",
       "count  141.000000  141.000000  141.000000  141.000000  141.000000  141.000000   \n",
       "mean   221.978723  242.397447    7.493333   10.060355    5.000099    1.108865   \n",
       "std    124.979313  184.453579    8.336949   10.435455    4.898097    7.319814   \n",
       "min      3.000000    0.000000    0.000000    0.000000    0.000000    0.000000   \n",
       "25%    125.790000  116.360000    0.650000    0.460000    0.330000    0.070000   \n",
       "50%    212.500000  217.360000    4.790000    7.770000    4.270000    0.150000   \n",
       "75%    301.000000  331.170000   10.880000   14.160000    7.280000    0.250000   \n",
       "max    544.000000  834.360000   39.470000   45.180000   20.460000   75.260000   \n",
       "\n",
       "       cholestrol       carbs       sugar  addedsugar       sodium  \n",
       "count  141.000000  141.000000  141.000000  141.000000   141.000000  \n",
       "mean    26.321128   30.770851   15.409504   10.336950   362.918809  \n",
       "std     50.348006   20.664969   15.674007   14.283388   477.792553  \n",
       "min      0.000000    0.000000    0.000000    0.000000     0.000000  \n",
       "25%      1.470000   15.630000    2.280000    0.000000    41.990000  \n",
       "50%      8.390000   29.880000    9.160000    3.640000   150.900000  \n",
       "75%     31.110000   45.390000   26.950000   19.230000   530.540000  \n",
       "max    302.610000   93.840000   64.220000   64.220000  2399.490000  "
      ]
     },
     "execution_count": 17,
     "metadata": {},
     "output_type": "execute_result"
    }
   ],
   "source": [
    "dataset.describe()"
   ]
  },
  {
   "cell_type": "code",
   "execution_count": 18,
   "id": "dbbedeee",
   "metadata": {},
   "outputs": [
    {
     "data": {
      "text/plain": [
       "<AxesSubplot:xlabel='servesize', ylabel='Count'>"
      ]
     },
     "execution_count": 18,
     "metadata": {},
     "output_type": "execute_result"
    },
    {
     "data": {
      "image/png": "[encoded data removed]",
      "text/plain": [
       "<Figure size 432x288 with 1 Axes>"
      ]
     },
     "metadata": {
      "needs_background": "light"
     },
     "output_type": "display_data"
    }
   ],
   "source": [
    "# Serve size data disdtribution\n",
    "sns.histplot(data=dataset['servesize'],kde=True)"
   ]
  },
  {
   "cell_type": "code",
   "execution_count": 19,
   "id": "da613924",
   "metadata": {},
   "outputs": [
    {
     "data": {
      "text/plain": [
       "<AxesSubplot:xlabel='calories', ylabel='Count'>"
      ]
     },
     "execution_count": 19,
     "metadata": {},
     "output_type": "execute_result"
    },
    {
     "data": {
      "image/png": "[encoded data removed]",
      "text/plain": [
       "<Figure size 432x288 with 1 Axes>"
      ]
     },
     "metadata": {
      "needs_background": "light"
     },
     "output_type": "display_data"
    }
   ],
   "source": [
    "# Calories data disdtribution\n",
    "sns.histplot(data=dataset['calories'],kde=True)"
   ]
  },
  {
   "cell_type": "code",
   "execution_count": 20,
   "id": "a4f96a62",
   "metadata": {},
   "outputs": [
    {
     "data": {
      "text/plain": [
       "<AxesSubplot:xlabel='proteins', ylabel='Count'>"
      ]
     },
     "execution_count": 20,
     "metadata": {},
     "output_type": "execute_result"
    },
    {
     "data": {
      "image/png": "[encoded data removed]",
      "text/plain": [
       "<Figure size 432x288 with 1 Axes>"
      ]
     },
     "metadata": {
      "needs_background": "light"
     },
     "output_type": "display_data"
    }
   ],
   "source": [
    "# Proteins data disdtribution\n",
    "sns.histplot(data=dataset['proteins'],kde=True)"
   ]
  },
  {
   "cell_type": "code",
   "execution_count": 21,
   "id": "13394319",
   "metadata": {},
   "outputs": [
    {
     "data": {
      "text/plain": [
       "<AxesSubplot:xlabel='totalfat', ylabel='Count'>"
      ]
     },
     "execution_count": 21,
     "metadata": {},
     "output_type": "execute_result"
    },
    {
     "data": {
      "image/png": "[encoded data removed]",
      "text/plain": [
       "<Figure size 432x288 with 1 Axes>"
      ]
     },
     "metadata": {
      "needs_background": "light"
     },
     "output_type": "display_data"
    }
   ],
   "source": [
    "# Totalfat data disdtribution\n",
    "sns.histplot(data=dataset['totalfat'],kde=True)"
   ]
  },
  {
   "cell_type": "code",
   "execution_count": 22,
   "id": "b17d554a",
   "metadata": {},
   "outputs": [
    {
     "data": {
      "text/plain": [
       "<AxesSubplot:xlabel='satfat', ylabel='Count'>"
      ]
     },
     "execution_count": 22,
     "metadata": {},
     "output_type": "execute_result"
    },
    {
     "data": {
      "image/png": "[encoded data removed]",
      "text/plain": [
       "<Figure size 432x288 with 1 Axes>"
      ]
     },
     "metadata": {
      "needs_background": "light"
     },
     "output_type": "display_data"
    }
   ],
   "source": [
    "# Saturation fat data disdtribution\n",
    "sns.histplot(data=dataset['satfat'],kde=True)"
   ]
  },
  {
   "cell_type": "code",
   "execution_count": 23,
   "id": "8a3453f3",
   "metadata": {},
   "outputs": [
    {
     "data": {
      "text/plain": [
       "<AxesSubplot:xlabel='cholestrol', ylabel='Count'>"
      ]
     },
     "execution_count": 23,
     "metadata": {},
     "output_type": "execute_result"
    },
    {
     "data": {
      "image/png": "[encoded data removed]",
      "text/plain": [
       "<Figure size 432x288 with 1 Axes>"
      ]
     },
     "metadata": {
      "needs_background": "light"
     },
     "output_type": "display_data"
    }
   ],
   "source": [
    "# Cholestrol data disdtribution\n",
    "sns.histplot(data=dataset['cholestrol'],kde=True)"
   ]
  },
  {
   "cell_type": "code",
   "execution_count": 24,
   "id": "43fa831d",
   "metadata": {},
   "outputs": [
    {
     "data": {
      "text/plain": [
       "<AxesSubplot:xlabel='carbs', ylabel='Count'>"
      ]
     },
     "execution_count": 24,
     "metadata": {},
     "output_type": "execute_result"
    },
    {
     "data": {
      "image/png": "[encoded data removed]",
      "text/plain": [
       "<Figure size 432x288 with 1 Axes>"
      ]
     },
     "metadata": {
      "needs_background": "light"
     },
     "output_type": "display_data"
    }
   ],
   "source": [
    "# Carbs data disdtribution\n",
    "sns.histplot(data=dataset['carbs'],kde=True)"
   ]
  },
  {
   "cell_type": "code",
   "execution_count": 25,
   "id": "5258504b",
   "metadata": {},
   "outputs": [
    {
     "data": {
      "text/plain": [
       "<AxesSubplot:xlabel='sugar', ylabel='Count'>"
      ]
     },
     "execution_count": 25,
     "metadata": {},
     "output_type": "execute_result"
    },
    {
     "data": {
      "image/png": "[encoded data removed]",
      "text/plain": [
       "<Figure size 432x288 with 1 Axes>"
      ]
     },
     "metadata": {
      "needs_background": "light"
     },
     "output_type": "display_data"
    }
   ],
   "source": [
    "# Sugar data disdtribution\n",
    "sns.histplot(data=dataset['sugar'],kde=True)"
   ]
  },
  {
   "cell_type": "code",
   "execution_count": 26,
   "id": "89c3db14",
   "metadata": {},
   "outputs": [
    {
     "data": {
      "text/plain": [
       "<AxesSubplot:xlabel='addedsugar', ylabel='Count'>"
      ]
     },
     "execution_count": 26,
     "metadata": {},
     "output_type": "execute_result"
    },
    {
     "data": {
      "image/png": "[encoded data removed]",
      "text/plain": [
       "<Figure size 432x288 with 1 Axes>"
      ]
     },
     "metadata": {
      "needs_background": "light"
     },
     "output_type": "display_data"
    }
   ],
   "source": [
    "# Added sugar data disdtribution\n",
    "sns.histplot(data=dataset['addedsugar'],kde=True)"
   ]
  },
  {
   "cell_type": "code",
   "execution_count": 27,
   "id": "13ee0257",
   "metadata": {},
   "outputs": [
    {
     "data": {
      "text/plain": [
       "<AxesSubplot:xlabel='sodium', ylabel='Count'>"
      ]
     },
     "execution_count": 27,
     "metadata": {},
     "output_type": "execute_result"
    },
    {
     "data": {
      "image/png": "[encoded data removed]",
      "text/plain": [
       "<Figure size 432x288 with 1 Axes>"
      ]
     },
     "metadata": {
      "needs_background": "light"
     },
     "output_type": "display_data"
    }
   ],
   "source": [
    "# Proteins data disdtribution\n",
    "sns.histplot(data=dataset['sodium'],kde=True)"
   ]
  },
  {
   "cell_type": "code",
   "execution_count": 28,
   "id": "59d40474",
   "metadata": {},
   "outputs": [
    {
     "data": {
      "text/html": [
       "<div>\n",
       "<style scoped>\n",
       "    .dataframe tbody tr th:only-of-type {\n",
       "        vertical-align: middle;\n",
       "    }\n",
       "\n",
       "    .dataframe tbody tr th {\n",
       "        vertical-align: top;\n",
       "    }\n",
       "\n",
       "    .dataframe thead th {\n",
       "        text-align: right;\n",
       "    }\n",
       "</style>\n",
       "<table border=\"1\" class=\"dataframe\">\n",
       "  <thead>\n",
       "    <tr style=\"text-align: right;\">\n",
       "      <th></th>\n",
       "      <th>servesize</th>\n",
       "      <th>calories</th>\n",
       "      <th>proteins</th>\n",
       "      <th>totalfat</th>\n",
       "      <th>satfat</th>\n",
       "      <th>transfat</th>\n",
       "      <th>cholestrol</th>\n",
       "      <th>carbs</th>\n",
       "      <th>sugar</th>\n",
       "      <th>addedsugar</th>\n",
       "      <th>sodium</th>\n",
       "    </tr>\n",
       "  </thead>\n",
       "  <tbody>\n",
       "    <tr>\n",
       "      <th>servesize</th>\n",
       "      <td>1.000000</td>\n",
       "      <td>-0.006646</td>\n",
       "      <td>-0.088983</td>\n",
       "      <td>-0.144483</td>\n",
       "      <td>-0.076125</td>\n",
       "      <td>-0.015167</td>\n",
       "      <td>-0.111177</td>\n",
       "      <td>0.200097</td>\n",
       "      <td>0.468617</td>\n",
       "      <td>0.507552</td>\n",
       "      <td>-0.107376</td>\n",
       "    </tr>\n",
       "    <tr>\n",
       "      <th>calories</th>\n",
       "      <td>-0.006646</td>\n",
       "      <td>1.000000</td>\n",
       "      <td>0.833290</td>\n",
       "      <td>0.900121</td>\n",
       "      <td>0.776620</td>\n",
       "      <td>-0.004685</td>\n",
       "      <td>0.385956</td>\n",
       "      <td>0.788981</td>\n",
       "      <td>0.029938</td>\n",
       "      <td>-0.023656</td>\n",
       "      <td>0.851800</td>\n",
       "    </tr>\n",
       "    <tr>\n",
       "      <th>proteins</th>\n",
       "      <td>-0.088983</td>\n",
       "      <td>0.833290</td>\n",
       "      <td>1.000000</td>\n",
       "      <td>0.871684</td>\n",
       "      <td>0.701758</td>\n",
       "      <td>0.079694</td>\n",
       "      <td>0.590339</td>\n",
       "      <td>0.415551</td>\n",
       "      <td>-0.287476</td>\n",
       "      <td>-0.319260</td>\n",
       "      <td>0.909905</td>\n",
       "    </tr>\n",
       "    <tr>\n",
       "      <th>totalfat</th>\n",
       "      <td>-0.144483</td>\n",
       "      <td>0.900121</td>\n",
       "      <td>0.871684</td>\n",
       "      <td>1.000000</td>\n",
       "      <td>0.844072</td>\n",
       "      <td>0.062986</td>\n",
       "      <td>0.421340</td>\n",
       "      <td>0.535279</td>\n",
       "      <td>-0.226667</td>\n",
       "      <td>-0.282666</td>\n",
       "      <td>0.859849</td>\n",
       "    </tr>\n",
       "    <tr>\n",
       "      <th>satfat</th>\n",
       "      <td>-0.076125</td>\n",
       "      <td>0.776620</td>\n",
       "      <td>0.701758</td>\n",
       "      <td>0.844072</td>\n",
       "      <td>1.000000</td>\n",
       "      <td>0.212726</td>\n",
       "      <td>0.362520</td>\n",
       "      <td>0.531387</td>\n",
       "      <td>-0.047899</td>\n",
       "      <td>-0.174590</td>\n",
       "      <td>0.614493</td>\n",
       "    </tr>\n",
       "    <tr>\n",
       "      <th>transfat</th>\n",
       "      <td>-0.015167</td>\n",
       "      <td>-0.004685</td>\n",
       "      <td>0.079694</td>\n",
       "      <td>0.062986</td>\n",
       "      <td>0.212726</td>\n",
       "      <td>1.000000</td>\n",
       "      <td>0.034111</td>\n",
       "      <td>-0.110521</td>\n",
       "      <td>-0.056378</td>\n",
       "      <td>-0.067910</td>\n",
       "      <td>0.029505</td>\n",
       "    </tr>\n",
       "    <tr>\n",
       "      <th>cholestrol</th>\n",
       "      <td>-0.111177</td>\n",
       "      <td>0.385956</td>\n",
       "      <td>0.590339</td>\n",
       "      <td>0.421340</td>\n",
       "      <td>0.362520</td>\n",
       "      <td>0.034111</td>\n",
       "      <td>1.000000</td>\n",
       "      <td>0.152886</td>\n",
       "      <td>-0.206585</td>\n",
       "      <td>-0.225116</td>\n",
       "      <td>0.475366</td>\n",
       "    </tr>\n",
       "    <tr>\n",
       "      <th>carbs</th>\n",
       "      <td>0.200097</td>\n",
       "      <td>0.788981</td>\n",
       "      <td>0.415551</td>\n",
       "      <td>0.535279</td>\n",
       "      <td>0.531387</td>\n",
       "      <td>-0.110521</td>\n",
       "      <td>0.152886</td>\n",
       "      <td>1.000000</td>\n",
       "      <td>0.506368</td>\n",
       "      <td>0.455133</td>\n",
       "      <td>0.493693</td>\n",
       "    </tr>\n",
       "    <tr>\n",
       "      <th>sugar</th>\n",
       "      <td>0.468617</td>\n",
       "      <td>0.029938</td>\n",
       "      <td>-0.287476</td>\n",
       "      <td>-0.226667</td>\n",
       "      <td>-0.047899</td>\n",
       "      <td>-0.056378</td>\n",
       "      <td>-0.206585</td>\n",
       "      <td>0.506368</td>\n",
       "      <td>1.000000</td>\n",
       "      <td>0.911110</td>\n",
       "      <td>-0.299733</td>\n",
       "    </tr>\n",
       "    <tr>\n",
       "      <th>addedsugar</th>\n",
       "      <td>0.507552</td>\n",
       "      <td>-0.023656</td>\n",
       "      <td>-0.319260</td>\n",
       "      <td>-0.282666</td>\n",
       "      <td>-0.174590</td>\n",
       "      <td>-0.067910</td>\n",
       "      <td>-0.225116</td>\n",
       "      <td>0.455133</td>\n",
       "      <td>0.911110</td>\n",
       "      <td>1.000000</td>\n",
       "      <td>-0.265877</td>\n",
       "    </tr>\n",
       "    <tr>\n",
       "      <th>sodium</th>\n",
       "      <td>-0.107376</td>\n",
       "      <td>0.851800</td>\n",
       "      <td>0.909905</td>\n",
       "      <td>0.859849</td>\n",
       "      <td>0.614493</td>\n",
       "      <td>0.029505</td>\n",
       "      <td>0.475366</td>\n",
       "      <td>0.493693</td>\n",
       "      <td>-0.299733</td>\n",
       "      <td>-0.265877</td>\n",
       "      <td>1.000000</td>\n",
       "    </tr>\n",
       "  </tbody>\n",
       "</table>\n",
       "</div>"
      ],
      "text/plain": [
       "            servesize  calories  proteins  totalfat    satfat  transfat  \\\n",
       "servesize    1.000000 -0.006646 -0.088983 -0.144483 -0.076125 -0.015167   \n",
       "calories    -0.006646  1.000000  0.833290  0.900121  0.776620 -0.004685   \n",
       "proteins    -0.088983  0.833290  1.000000  0.871684  0.701758  0.079694   \n",
       "totalfat    -0.144483  0.900121  0.871684  1.000000  0.844072  0.062986   \n",
       "satfat      -0.076125  0.776620  0.701758  0.844072  1.000000  0.212726   \n",
       "transfat    -0.015167 -0.004685  0.079694  0.062986  0.212726  1.000000   \n",
       "cholestrol  -0.111177  0.385956  0.590339  0.421340  0.362520  0.034111   \n",
       "carbs        0.200097  0.788981  0.415551  0.535279  0.531387 -0.110521   \n",
       "sugar        0.468617  0.029938 -0.287476 -0.226667 -0.047899 -0.056378   \n",
       "addedsugar   0.507552 -0.023656 -0.319260 -0.282666 -0.174590 -0.067910   \n",
       "sodium      -0.107376  0.851800  0.909905  0.859849  0.614493  0.029505   \n",
       "\n",
       "            cholestrol     carbs     sugar  addedsugar    sodium  \n",
       "servesize    -0.111177  0.200097  0.468617    0.507552 -0.107376  \n",
       "calories      0.385956  0.788981  0.029938   -0.023656  0.851800  \n",
       "proteins      0.590339  0.415551 -0.287476   -0.319260  0.909905  \n",
       "totalfat      0.421340  0.535279 -0.226667   -0.282666  0.859849  \n",
       "satfat        0.362520  0.531387 -0.047899   -0.174590  0.614493  \n",
       "transfat      0.034111 -0.110521 -0.056378   -0.067910  0.029505  \n",
       "cholestrol    1.000000  0.152886 -0.206585   -0.225116  0.475366  \n",
       "carbs         0.152886  1.000000  0.506368    0.455133  0.493693  \n",
       "sugar        -0.206585  0.506368  1.000000    0.911110 -0.299733  \n",
       "addedsugar   -0.225116  0.455133  0.911110    1.000000 -0.265877  \n",
       "sodium        0.475366  0.493693 -0.299733   -0.265877  1.000000  "
      ]
     },
     "execution_count": 28,
     "metadata": {},
     "output_type": "execute_result"
    }
   ],
   "source": [
    "dataset.corr()"
   ]
  },
  {
   "cell_type": "code",
   "execution_count": 41,
   "id": "14b45ca7",
   "metadata": {},
   "outputs": [
    {
     "data": {
      "image/png": "[encoded data removed]",
      "text/plain": [
       "<Figure size 432x288 with 1 Axes>"
      ]
     },
     "metadata": {
      "needs_background": "light"
     },
     "output_type": "display_data"
    }
   ],
   "source": [
    "# Visualize McDonald Most Menu Categories\n",
    "\n",
    "# Count each menu category frequency\n",
    "menu = dataset['menu'].value_counts()\n",
    "\n",
    "# Sort the frequency\n",
    "menusorted = menu.sort_values(ascending=False)\n",
    "\n",
    "#Create the countplot\n",
    "sns.countplot(x=dataset['menu'], order=menusorted.index)\n",
    "plt.title('McDonald Most Menu Categories')\n",
    "plt.xlabel('Menu')\n",
    "plt.ylabel('Count')\n",
    "plt.show()"
   ]
  },
  {
   "cell_type": "code",
   "execution_count": 42,
   "id": "933faeda",
   "metadata": {},
   "outputs": [
    {
     "data": {
      "image/png": "[encoded data removed]",
      "text/plain": [
       "<Figure size 432x288 with 1 Axes>"
      ]
     },
     "metadata": {
      "needs_background": "light"
     },
     "output_type": "display_data"
    }
   ],
   "source": [
    "#Sort data for top 5 Food with High Calories\n",
    "datasetSorted = dataset.sort_values(by='calories',ascending=False)\n",
    "\n",
    "top5HighCalories = datasetSorted.head(5)\n",
    "\n",
    "#Visualizing top 5 Food with High Calories\n",
    "sns.barplot(x='calories',y='item', data=top5HighCalories)\n",
    "plt.xlabel('Calories')\n",
    "plt.ylabel('Menu Item')\n",
    "plt.title('Top 5 High Calories Menu in McDonald')\n",
    "plt.show()"
   ]
  },
  {
   "cell_type": "code",
   "execution_count": 43,
   "id": "b8906599",
   "metadata": {},
   "outputs": [
    {
     "data": {
      "image/png": "[encoded data removed]",
      "text/plain": [
       "<Figure size 432x288 with 1 Axes>"
      ]
     },
     "metadata": {
      "needs_background": "light"
     },
     "output_type": "display_data"
    }
   ],
   "source": [
    "#Sort data for top 5 Food with High Cholestrol\n",
    "datasetSorted2 = dataset.sort_values(by='cholestrol',ascending=False)\n",
    "\n",
    "top5HighCholestrol = datasetSorted2.head(5)\n",
    "\n",
    "#Visualizing top 5 Food with High Calories\n",
    "sns.barplot(x='cholestrol',y='item', data=top5HighCholestrol)\n",
    "plt.xlabel('Cholestrol')\n",
    "plt.ylabel('Menu Item')\n",
    "plt.title('Top 5 High Cholestrol Menu in McDonald')\n",
    "plt.show()"
   ]
  },
  {
   "cell_type": "code",
   "execution_count": 44,
   "id": "9fa4973a",
   "metadata": {},
   "outputs": [
    {
     "data": {
      "image/png": "[encoded data removed]",
      "text/plain": [
       "<Figure size 432x288 with 1 Axes>"
      ]
     },
     "metadata": {
      "needs_background": "light"
     },
     "output_type": "display_data"
    }
   ],
   "source": [
    "#Sort data for top 5 Food with High Proteins\n",
    "datasetSorted2 = dataset.sort_values(by='proteins',ascending=False)\n",
    "\n",
    "top5Proteins = datasetSorted2.head(5)\n",
    "\n",
    "#Visualizing top 5 Food with High Proteins\n",
    "sns.barplot(x='proteins',y='item', data=top5HighCholestrol)\n",
    "plt.xlabel('Proteins')\n",
    "plt.ylabel('Menu Item')\n",
    "plt.title('Top 5 High Proteins Menu in McDonald')\n",
    "plt.show()"
   ]
  },
  {
   "cell_type": "code",
   "execution_count": 45,
   "id": "b799a080",
   "metadata": {},
   "outputs": [
    {
     "data": {
      "image/png": "[encoded data removed]",
      "text/plain": [
       "<Figure size 432x288 with 1 Axes>"
      ]
     },
     "metadata": {
      "needs_background": "light"
     },
     "output_type": "display_data"
    }
   ],
   "source": [
    "#Sort data for top 5 Food with High Sugar\n",
    "datasetSorted2 = dataset.sort_values(by='sugar',ascending=False)\n",
    "\n",
    "top5HighSugar = datasetSorted2.head(5)\n",
    "\n",
    "#Visualizing top 5 Food with High Sugar\n",
    "sns.barplot(x='sugar',y='item', data=top5HighSugar)\n",
    "plt.xlabel('Sugar')\n",
    "plt.ylabel('Menu Item')\n",
    "plt.title('Top 5 High Sugar Menu in McDonald')\n",
    "plt.show()"
   ]
  },
  {
   "cell_type": "code",
   "execution_count": 46,
   "id": "4e2749a6",
   "metadata": {},
   "outputs": [
    {
     "data": {
      "image/png": "[encoded data removed]",
      "text/plain": [
       "<Figure size 432x288 with 1 Axes>"
      ]
     },
     "metadata": {
      "needs_background": "light"
     },
     "output_type": "display_data"
    }
   ],
   "source": [
    "#Sort data for top 5 Food with High Carbs\n",
    "datasetSorted2 = dataset.sort_values(by='carbs',ascending=False)\n",
    "\n",
    "top5HighCarbs = datasetSorted2.head(5)\n",
    "\n",
    "#Visualizing top 5 Food with High Sugar\n",
    "sns.barplot(x='carbs',y='item', data=top5HighCarbs)\n",
    "plt.xlabel('Carbs')\n",
    "plt.ylabel('Menu Item')\n",
    "plt.title('Top 5 High Carbs Menu in McDonald')\n",
    "plt.show()"
   ]
  }
 ],
 "metadata": {
  "kernelspec": {
   "display_name": "Python 3 (ipykernel)",
   "language": "python",
   "name": "python3"
  },
  "language_info": {
   "codemirror_mode": {
    "name": "ipython",
    "version": 3
   },
   "file_extension": ".py",
   "mimetype": "text/x-python",
   "name": "python",
   "nbconvert_exporter": "python",
   "pygments_lexer": "ipython3",
   "version": "3.9.7"
  }
 },
 "nbformat": 4,
 "nbformat_minor": 5
}
